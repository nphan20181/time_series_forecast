{
 "cells": [
  {
   "cell_type": "markdown",
   "id": "ac593f44",
   "metadata": {},
   "source": [
    "# Time Series Data\n",
    "\n",
    "This notebook prepares time series data for training forecast models. Please refer to the following Jupyter notebook for obtaining and processing Walmart Sales dataset:\n",
    "\n",
    "- [Data Wrangling for Walmart Sales Datasets](https://github.com/nphan20181/walmart_sales/blob/master/00_walmart_data_wrangling.ipynb)."
   ]
  },
  {
   "cell_type": "code",
   "execution_count": 1,
   "id": "29387444",
   "metadata": {},
   "outputs": [
    {
     "data": {
      "text/html": [
       "<div>\n",
       "<style scoped>\n",
       "    .dataframe tbody tr th:only-of-type {\n",
       "        vertical-align: middle;\n",
       "    }\n",
       "\n",
       "    .dataframe tbody tr th {\n",
       "        vertical-align: top;\n",
       "    }\n",
       "\n",
       "    .dataframe thead th {\n",
       "        text-align: right;\n",
       "    }\n",
       "</style>\n",
       "<table border=\"1\" class=\"dataframe\">\n",
       "  <thead>\n",
       "    <tr style=\"text-align: right;\">\n",
       "      <th></th>\n",
       "      <th>Time Series Index</th>\n",
       "      <th>Date</th>\n",
       "      <th>IsHoliday</th>\n",
       "      <th>Week</th>\n",
       "      <th>Month</th>\n",
       "      <th>Quarter</th>\n",
       "      <th>Year</th>\n",
       "      <th>Weekly Sales (Million)</th>\n",
       "    </tr>\n",
       "  </thead>\n",
       "  <tbody>\n",
       "    <tr>\n",
       "      <th>0</th>\n",
       "      <td>1</td>\n",
       "      <td>2010-01-08</td>\n",
       "      <td>False</td>\n",
       "      <td>1</td>\n",
       "      <td>1</td>\n",
       "      <td>1</td>\n",
       "      <td>2010</td>\n",
       "      <td>43.865605</td>\n",
       "    </tr>\n",
       "    <tr>\n",
       "      <th>1</th>\n",
       "      <td>2</td>\n",
       "      <td>2010-01-15</td>\n",
       "      <td>False</td>\n",
       "      <td>2</td>\n",
       "      <td>1</td>\n",
       "      <td>1</td>\n",
       "      <td>2010</td>\n",
       "      <td>41.348378</td>\n",
       "    </tr>\n",
       "    <tr>\n",
       "      <th>2</th>\n",
       "      <td>3</td>\n",
       "      <td>2010-01-22</td>\n",
       "      <td>False</td>\n",
       "      <td>3</td>\n",
       "      <td>1</td>\n",
       "      <td>1</td>\n",
       "      <td>2010</td>\n",
       "      <td>41.367822</td>\n",
       "    </tr>\n",
       "    <tr>\n",
       "      <th>3</th>\n",
       "      <td>4</td>\n",
       "      <td>2010-01-29</td>\n",
       "      <td>False</td>\n",
       "      <td>4</td>\n",
       "      <td>1</td>\n",
       "      <td>1</td>\n",
       "      <td>2010</td>\n",
       "      <td>39.717414</td>\n",
       "    </tr>\n",
       "    <tr>\n",
       "      <th>4</th>\n",
       "      <td>5</td>\n",
       "      <td>2010-02-05</td>\n",
       "      <td>False</td>\n",
       "      <td>5</td>\n",
       "      <td>2</td>\n",
       "      <td>1</td>\n",
       "      <td>2010</td>\n",
       "      <td>49.750740</td>\n",
       "    </tr>\n",
       "  </tbody>\n",
       "</table>\n",
       "</div>"
      ],
      "text/plain": [
       "   Time Series Index       Date IsHoliday  Week  Month  Quarter  Year  \\\n",
       "0                  1 2010-01-08     False     1      1        1  2010   \n",
       "1                  2 2010-01-15     False     2      1        1  2010   \n",
       "2                  3 2010-01-22     False     3      1        1  2010   \n",
       "3                  4 2010-01-29     False     4      1        1  2010   \n",
       "4                  5 2010-02-05     False     5      2        1  2010   \n",
       "\n",
       "   Weekly Sales (Million)  \n",
       "0               43.865605  \n",
       "1               41.348378  \n",
       "2               41.367822  \n",
       "3               39.717414  \n",
       "4               49.750740  "
      ]
     },
     "execution_count": 1,
     "metadata": {},
     "output_type": "execute_result"
    }
   ],
   "source": [
    "import pandas as pd\n",
    "import datetime\n",
    "\n",
    "# load pre-processed data\n",
    "weekly_sales = pd.read_pickle('data/weekly_sales.pkl')\n",
    "\n",
    "# extract week number of year from Date\n",
    "weekly_sales['Week'] = weekly_sales['Date'].map(lambda x: datetime.date(x.year, x.month, x.day).isocalendar().week)\n",
    "weekly_sales.reset_index(inplace=True)\n",
    "weekly_sales['index'] = weekly_sales['index'] + 1\n",
    "weekly_sales.rename(columns={'index': 'Time Series Index'}, inplace=True)\n",
    "weekly_sales.head()"
   ]
  },
  {
   "cell_type": "code",
   "execution_count": 2,
   "id": "2fe9f1c1",
   "metadata": {},
   "outputs": [],
   "source": [
    "import numpy as np\n",
    "\n",
    "# transform data\n",
    "weekly_sales['Log of Weekly Sales (Million)'] = np.log(weekly_sales['Weekly Sales (Million)'])\n",
    "weekly_sales['Square Root of Weekly Sales (Million)'] = np.sqrt(weekly_sales['Weekly Sales (Million)'])"
   ]
  },
  {
   "cell_type": "code",
   "execution_count": 3,
   "id": "f10d04d6",
   "metadata": {},
   "outputs": [],
   "source": [
    "# save dataset to csv files\n",
    "weekly_sales.to_csv('data/ts_dataset.csv', index=False)"
   ]
  }
 ],
 "metadata": {
  "kernelspec": {
   "display_name": "Python 3 (ipykernel)",
   "language": "python",
   "name": "python3"
  },
  "language_info": {
   "codemirror_mode": {
    "name": "ipython",
    "version": 3
   },
   "file_extension": ".py",
   "mimetype": "text/x-python",
   "name": "python",
   "nbconvert_exporter": "python",
   "pygments_lexer": "ipython3",
   "version": "3.9.16"
  }
 },
 "nbformat": 4,
 "nbformat_minor": 5
}
